{
 "cells": [
  {
   "cell_type": "markdown",
   "metadata": {},
   "source": [
    "# Handwritten Number Recognition with TFLearn using Kaggle dataset\n",
    "\n",
    "In this notebook, we'll be building a neural network that recognizes handwritten numbers 0-9. \n",
    "\n",
    "This kind of neural network is used in a variety of real-world applications including: recognizing phone numbers and sorting postal mail by address. To build the network, we'll be using the **MNIST** data set, which consists of images of handwritten numbers and their correct labels 0-9.\n",
    "\n",
    "We'll be using [TFLearn](http://tflearn.org/), a high-level library built on top of TensorFlow to build the neural network. We'll start off by importing all the modules we'll need, then load the data, and finally build the network."
   ]
  },
  {
   "cell_type": "code",
   "execution_count": 5,
   "metadata": {},
   "outputs": [
    {
     "name": "stdout",
     "output_type": "stream",
     "text": [
      "hdf5 is not supported on this machine (please install/reinstall h5py for optimal experience)\n",
      "curses is not supported on this machine (please install/reinstall curses for an optimal experience)\n"
     ]
    }
   ],
   "source": [
    "# Import Numpy, TensorFlow, TFLearn\n",
    "import numpy as np\n",
    "import tensorflow as tf\n",
    "import tflearn"
   ]
  },
  {
   "cell_type": "markdown",
   "metadata": {},
   "source": [
    "## Retrieving training and test data\n",
    "\n",
    "The MNIST data set already contains both training and test data. There are 42000 data points of training data, and 28000 points of test data.\n",
    "\n",
    "Each MNIST data point has:\n",
    "1. an image of a handwritten digit and \n",
    "2. a corresponding label (a number 0-9 that identifies the image)\n",
    "\n",
    "We'll call the images, which will be the input to our neural network, **X** and their corresponding labels **Y**.\n",
    "\n",
    "We're going to want our labels as *one-hot vectors*, which are vectors that holds mostly 0's and one 1. It's easiest to see this in a example. As a one-hot vector, the number 0 is represented as [1, 0, 0, 0, 0, 0, 0, 0, 0, 0], and 4 is represented as [0, 0, 0, 0, 1, 0, 0, 0, 0, 0].\n",
    "\n",
    "### Flattened data\n",
    "\n",
    "For this example, we'll be using *flattened* data or a representation of MNIST images in one dimension rather than two. So, each handwritten number image, which is 28x28 pixels, will be represented as a one dimensional array of 784 pixel values. \n",
    "\n",
    "Flattening the data throws away information about the 2D structure of the image, but it simplifies our data so that all of the training data can be contained in one array whose shape is [42000, 784]; the first dimension is the number of training images and the second dimension is the number of pixels in each image. This is the kind of data that is easy to analyze using a simple neural network."
   ]
  },
  {
   "cell_type": "code",
   "execution_count": 10,
   "metadata": {
    "collapsed": true
   },
   "outputs": [],
   "source": [
    "import os\n",
    "def get_data(train=True, base_dir='data'):\n",
    "    \"\"\"\n",
    "    This function gets the train/test data. By default the train=True. \n",
    "    If train=False, then the test data would be returned\n",
    "    output is a dataframe (train or test)\n",
    "    \"\"\"\n",
    "    \n",
    "    if train == True:\n",
    "        train_data = np.loadtxt(os.path.join(base_dir,'train.csv'), delimiter=',', \n",
    "                               skiprows=1) # Skip the first row, as it is a header\n",
    "        trainX = train_data[:, 1:]\n",
    "        trainY = train_data[:, 0]\n",
    "        return trainX, trainY\n",
    "    else:\n",
    "        # There are no output labels in the Kaggle dataset \n",
    "        testX = np.loadtxt(os.path.join(base_dir,'test.csv'), delimiter=',', \n",
    "                               skiprows=1) # Skip the first row, as it is a header\n",
    "        return testX"
   ]
  },
  {
   "cell_type": "code",
   "execution_count": 11,
   "metadata": {
    "collapsed": true
   },
   "outputs": [],
   "source": [
    "# Retrieve the training and test data\n",
    "trainX, trainY = get_data()\n",
    "# Important caveat: Make sure the y-array is 2D\n",
    "trainY = np.atleast_2d(trainY).T\n",
    "testX = get_data(train=False)"
   ]
  },
  {
   "cell_type": "code",
   "execution_count": 13,
   "metadata": {},
   "outputs": [
    {
     "data": {
      "text/plain": [
       "((42000, 784), (42000, 1), (28000, 784))"
      ]
     },
     "execution_count": 13,
     "metadata": {},
     "output_type": "execute_result"
    }
   ],
   "source": [
    "# Check if the data is loaded correctly.\n",
    "trainX.shape, trainY.shape, testX.shape"
   ]
  },
  {
   "cell_type": "code",
   "execution_count": 14,
   "metadata": {},
   "outputs": [
    {
     "data": {
      "text/plain": [
       "array([[ 0.,  1.,  0.,  0.,  0.,  0.,  0.,  0.,  0.,  0.],\n",
       "       [ 1.,  0.,  0.,  0.,  0.,  0.,  0.,  0.,  0.,  0.],\n",
       "       [ 0.,  1.,  0.,  0.,  0.,  0.,  0.,  0.,  0.,  0.],\n",
       "       [ 0.,  0.,  0.,  0.,  1.,  0.,  0.,  0.,  0.,  0.],\n",
       "       [ 1.,  0.,  0.,  0.,  0.,  0.,  0.,  0.,  0.,  0.],\n",
       "       [ 1.,  0.,  0.,  0.,  0.,  0.,  0.,  0.,  0.,  0.],\n",
       "       [ 0.,  0.,  0.,  0.,  0.,  0.,  0.,  1.,  0.,  0.],\n",
       "       [ 0.,  0.,  0.,  1.,  0.,  0.,  0.,  0.,  0.,  0.],\n",
       "       [ 0.,  0.,  0.,  0.,  0.,  1.,  0.,  0.,  0.,  0.],\n",
       "       [ 0.,  0.,  0.,  1.,  0.,  0.,  0.,  0.,  0.,  0.]])"
      ]
     },
     "execution_count": 14,
     "metadata": {},
     "output_type": "execute_result"
    }
   ],
   "source": [
    "# Important: Make sure trainY is one-hot encoded. Which means trainY should be of shape (trainX[0], 10)\n",
    "def one_hot_encoded(dataY, number_of_labels=10):\n",
    "    \"\"\"\n",
    "    This function encodes the y-array with labels\n",
    "    \"\"\"\n",
    "    dataY = np.atleast_1d(dataY) \n",
    "    dataY = dataY.astype(int) # Converts the labels into integer\n",
    "    # Convert dataY to 1D array, flatten array\n",
    "    dataY = dataY.flatten()\n",
    "    encoded_matrix = np.zeros((dataY.shape[0], number_of_labels))\n",
    "    encoded_matrix[np.arange(dataY.shape[0]), dataY] = 1 # Assign 1 at the taking label as the index\n",
    "    \n",
    "    return encoded_matrix\n",
    "\n",
    "one_hot_encoded(trainY[:10])"
   ]
  },
  {
   "cell_type": "code",
   "execution_count": 15,
   "metadata": {},
   "outputs": [],
   "source": [
    "trainY = one_hot_encoded(trainY)"
   ]
  },
  {
   "cell_type": "markdown",
   "metadata": {},
   "source": [
    "## Visualize the training data\n",
    "\n",
    "Provided below is a function that will help you visualize the MNIST data. By passing in the index of a training example, the function `show_digit` will display that training image along with it's corresponding label in the title."
   ]
  },
  {
   "cell_type": "code",
   "execution_count": 16,
   "metadata": {},
   "outputs": [
    {
     "name": "stdout",
     "output_type": "stream",
     "text": [
      "(42000, 784) (42000, 10)\n"
     ]
    },
    {
     "data": {
      "image/png": "[encoded data removed]",
      "text/plain": [
       "<matplotlib.figure.Figure at 0x19b9eb27b00>"
      ]
     },
     "metadata": {},
     "output_type": "display_data"
    }
   ],
   "source": [
    "# Visualizing the data\n",
    "import matplotlib.pyplot as plt\n",
    "%matplotlib inline\n",
    "print (trainX.shape, trainY.shape)\n",
    "# Function for displaying a training image by it's index in the MNIST set\n",
    "def show_digit(index):\n",
    "    label = trainY[index].argmax(axis=0)\n",
    "    # Reshape 784 array into 28x28 image\n",
    "    image = trainX[index].reshape([28,28])\n",
    "    plt.title('Training data, index: %d,  Label: %d' % (index, label))\n",
    "    plt.imshow(image, cmap='gray_r')\n",
    "    plt.show()\n",
    "    \n",
    "# Display the (index) training image\n",
    "show_digit(1)"
   ]
  },
  {
   "cell_type": "code",
   "execution_count": 17,
   "metadata": {},
   "outputs": [
    {
     "data": {
      "image/png": "[encoded data removed]",
      "text/plain": [
       "<matplotlib.figure.Figure at 0x19bcdce78d0>"
      ]
     },
     "metadata": {},
     "output_type": "display_data"
    }
   ],
   "source": [
    "# Let's visualize the random 100 digits\n",
    "import matplotlib.cm as cm\n",
    "def display_sample_data(dataX, n_samples=100, random_points=True):\n",
    "    \"\"\"\n",
    "    Display a sample of data in the training data set\n",
    "    n_samples = Number of samples to display (this will be usually in n*n form)\n",
    "    Most of the logic is borrowed from Coursera ML Octave code\n",
    "    \"\"\"\n",
    "        \n",
    "    m_length = dataX.shape[0] # Number of rows in the data\n",
    "    pixel_length = dataX.shape[1] # Number of pixels in the data; this need not be in n*n form...we could have 10 x 15 pixel image as well\n",
    "    \n",
    "    sample_height = int(round(np.sqrt(pixel_length)))\n",
    "    sample_width = int(pixel_length/sample_height)\n",
    "    \n",
    "    plt_rows = int(np.floor(np.sqrt(n_samples)))\n",
    "    plt_cols = int(np.ceil(n_samples/plt_rows))\n",
    "   \n",
    "    # Padding between the images\n",
    "    pad = 1\n",
    "    \n",
    "    # Setup a blank display\n",
    "    display_array = -np.ones((pad+plt_rows*(sample_height+pad),pad+plt_rows*(sample_width+pad)))\n",
    "    \n",
    "    if random_points == True:\n",
    "        randindices = np.random.randint(m_length, size=n_samples)# Select some n random samples from m data points (n<=m)\n",
    "    else: # Select only first n points of the data\n",
    "        randindices = np.arange(0, n_samples)\n",
    "         \n",
    "    sampleX = dataX[randindices, :] # .ix command takes indices as the argument and the dataframe is created\n",
    "            \n",
    "    curr_sample=0;\n",
    "    for i in range(plt_rows):\n",
    "        for j in range(plt_cols):\n",
    "            if curr_sample > n_samples-1:\n",
    "                break\n",
    "            \n",
    "            # Copy the patch of the pixel data\n",
    "            sample_index = randindices[curr_sample]; # This is the index coming from \n",
    "            # Update the display array with the reshaped matrix\n",
    "            tmp_array=np.array(dataX[sample_index,:])\n",
    "            row_ll = pad + i*(sample_height + pad) + 0\n",
    "            row_ul = pad + i*(sample_height + pad) + sample_height\n",
    "            col_ll = pad + j*(sample_width + pad) + 0\n",
    "            col_ul = pad + j*(sample_width + pad) + sample_width\n",
    "            display_array[row_ll:row_ul,col_ll:col_ul] = np.reshape(tmp_array, (sample_height,sample_width))\n",
    "            curr_sample += 1; # Increment\n",
    "        \n",
    "        # Another break statement outside for loop    \n",
    "        if curr_sample > n_samples-1:\n",
    "            break\n",
    "    plt.style.use('ggplot');\n",
    "    fig = plt.figure() # Create a fig handler\n",
    "    ax = fig.add_subplot(111)\n",
    "    ax.imshow(display_array,cmap=cm.binary)\n",
    "    plt.axis('off')\n",
    "    plt.show()\n",
    "    return\n",
    "\n",
    "# Plot the number of samples\n",
    "display_sample_data(trainX, random_points=False)"
   ]
  },
  {
   "cell_type": "markdown",
   "metadata": {},
   "source": [
    "## Building the network\n",
    "\n",
    "TFLearn lets you build the network by defining the layers in that network. \n",
    "\n",
    "For this example, you'll define:\n",
    "\n",
    "1. The input layer, which tells the network the number of inputs it should expect for each piece of MNIST data. \n",
    "2. Hidden layers, which recognize patterns in data and connect the input to the output layer, and\n",
    "3. The output layer, which defines how the network learns and outputs a label for a given image.\n",
    "\n",
    "Let's start with the input layer; to define the input layer, you'll define the type of data that the network expects. For example,\n",
    "\n",
    "```\n",
    "net = tflearn.input_data([None, 100])\n",
    "```\n",
    "\n",
    "would create a network with 100 inputs. The number of inputs to your network needs to match the size of your data. For this example, we're using 784 element long vectors to encode our input data, so we need **784 input units**.\n",
    "\n",
    "\n",
    "### Adding layers\n",
    "\n",
    "To add new hidden layers, you use \n",
    "\n",
    "```\n",
    "net = tflearn.fully_connected(net, n_units, activation='ReLU')\n",
    "```\n",
    "\n",
    "This adds a fully connected layer where every unit (or node) in the previous layer is connected to every unit in this layer. The first argument `net` is the network you created in the `tflearn.input_data` call, it designates the input to the hidden layer. You can set the number of units in the layer with `n_units`, and set the activation function with the `activation` keyword. You can keep adding layers to your network by repeated calling `tflearn.fully_connected(net, n_units)`. \n",
    "\n",
    "Then, to set how you train the network, use:\n",
    "\n",
    "```\n",
    "net = tflearn.regression(net, optimizer='sgd', learning_rate=0.1, loss='categorical_crossentropy')\n",
    "```\n",
    "\n",
    "Again, this is passing in the network you've been building. The keywords: \n",
    "\n",
    "* `optimizer` sets the training method, here stochastic gradient descent\n",
    "* `learning_rate` is the learning rate\n",
    "* `loss` determines how the network error is calculated. In this example, with categorical cross-entropy.\n",
    "\n",
    "Finally, you put all this together to create the model with `tflearn.DNN(net)`."
   ]
  },
  {
   "cell_type": "markdown",
   "metadata": {},
   "source": [
    "**Exercise:** Below in the `build_model()` function, you'll put together the network using TFLearn. You get to choose how many layers to use, how many hidden units, etc.\n",
    "\n",
    "**Hint:** The final output layer must have 10 output nodes (one for each digit 0-9). It's also recommended to use a `softmax` activation layer as your final output layer. "
   ]
  },
  {
   "cell_type": "code",
   "execution_count": 18,
   "metadata": {
    "collapsed": true
   },
   "outputs": [],
   "source": [
    "# Define the neural network\n",
    "def build_model():\n",
    "    # This resets all parameters and variables, leave this here\n",
    "    tf.reset_default_graph()\n",
    "    \n",
    "    #### Your code ####\n",
    "    # Include the input layer, hidden layer(s), and set how you want to train the model\n",
    "    net = tflearn.input_data([None, trainX.shape[1]]) # trainX \n",
    "    net = tflearn.fully_connected(net, 128, activation='ReLU')\n",
    "    net = tflearn.fully_connected(net, 20, activation='ReLU')\n",
    "    # Add output-layer with sofmax\n",
    "    net = tflearn.fully_connected(net, trainY.shape[1], activation='softmax') # There are 10 output digits\n",
    "    net = tflearn.regression(net, optimizer='sgd', learning_rate=0.01, loss='categorical_crossentropy')\n",
    "    \n",
    "    # This model assumes that your network is named \"net\"    \n",
    "    model = tflearn.DNN(net)\n",
    "    return model"
   ]
  },
  {
   "cell_type": "code",
   "execution_count": 19,
   "metadata": {
    "collapsed": true
   },
   "outputs": [],
   "source": [
    "# Build the model\n",
    "model = build_model()"
   ]
  },
  {
   "cell_type": "markdown",
   "metadata": {},
   "source": [
    "## Training the network\n",
    "\n",
    "Now that we've constructed the network, saved as the variable `model`, we can fit it to the data. Here we use the `model.fit` method. You pass in the training features `trainX` and the training targets `trainY`. Below I set `validation_set=0.1` which reserves 10% of the data set as the validation set. You can also set the batch size and number of epochs with the `batch_size` and `n_epoch` keywords, respectively. \n",
    "\n",
    "Too few epochs don't effectively train your network, and too many take a long time to execute. Choose wisely!"
   ]
  },
  {
   "cell_type": "code",
   "execution_count": 20,
   "metadata": {},
   "outputs": [
    {
     "name": "stdout",
     "output_type": "stream",
     "text": [
      "Training Step: 37799  | total loss: \u001b[1m\u001b[32m0.00006\u001b[0m\u001b[0m | time: 2.626s\n",
      "| SGD | epoch: 100 | loss: 0.00006 - acc: 1.0000 -- iter: 37700/37800\n",
      "Training Step: 37800  | total loss: \u001b[1m\u001b[32m0.00006\u001b[0m\u001b[0m | time: 3.642s\n",
      "| SGD | epoch: 100 | loss: 0.00006 - acc: 1.0000 | val_loss: 0.15531 - val_acc: 0.9752 -- iter: 37800/37800\n",
      "--\n"
     ]
    }
   ],
   "source": [
    "# Training\n",
    "model.fit(trainX, trainY, validation_set=0.1, show_metric=True, batch_size=100, n_epoch=100)"
   ]
  },
  {
   "cell_type": "markdown",
   "metadata": {},
   "source": [
    "## Testing\n",
    "After you're satisified with the training output and accuracy, you can then run the network on the **test data set**. However we do not have the y-labels for the test data. So upload in Kaggle and see where you stand."
   ]
  },
  {
   "cell_type": "code",
   "execution_count": 21,
   "metadata": {},
   "outputs": [
    {
     "name": "stdout",
     "output_type": "stream",
     "text": [
      "(28000,)\n"
     ]
    }
   ],
   "source": [
    "# Compare the labels that our model predicts with the actual labels\n",
    "\n",
    "# Find the indices of the most confident prediction for each item. That tells us the predicted digit for that sample.\n",
    "predictions = np.array(model.predict(testX)).argmax(axis=1)\n",
    "# Output the predictions to the csv file as \n",
    "print (predictions.shape)\n"
   ]
  },
  {
   "cell_type": "code",
   "execution_count": 22,
   "metadata": {},
   "outputs": [
    {
     "name": "stdout",
     "output_type": "stream",
     "text": [
      "[2 0 9 9 3 7 0 3 0 3]\n",
      "(28000,)\n",
      "(28000,)\n",
      "(28000, 1)\n"
     ]
    }
   ],
   "source": [
    "print (predictions[:10])\n",
    "print (predictions.shape)\n",
    "print (np.arange(1, predictions.shape[0]+1).shape)\n",
    "#x = y = z = np.arange(0.0,5.0,1.0)\n",
    "#print (x)\n",
    "#np.savetxt('test.out', x, delimiter=',')   # X is an array\n",
    "#np.savetxt('test.out', (x,y,z))\n",
    "print (np.arange(1, predictions.shape[0]+1).reshape(predictions.shape[0], 1).shape)"
   ]
  },
  {
   "cell_type": "code",
   "execution_count": 93,
   "metadata": {
    "collapsed": true
   },
   "outputs": [],
   "source": [
    "np.savetxt('./results/tf_learn_output.csv', np.dstack((np.arange(1, predictions.shape[0]+1), \n",
    "                                                       predictions))[0],\"%d,%d\",\n",
    "                                                    header='ImageId,Label', delimiter=',', comments=\"\")"
   ]
  },
  {
   "cell_type": "markdown",
   "metadata": {},
   "source": [
    "With the hyperparameters used above the score from Kaggle is: 0.97011. Not bad with a 2 hidden layer network."
   ]
  },
  {
   "cell_type": "code",
   "execution_count": null,
   "metadata": {
    "collapsed": true
   },
   "outputs": [],
   "source": []
  }
 ],
 "metadata": {
  "anaconda-cloud": {},
  "kernelspec": {
   "display_name": "Python 3",
   "language": "python",
   "name": "python3"
  },
  "language_info": {
   "codemirror_mode": {
    "name": "ipython",
    "version": 3
   },
   "file_extension": ".py",
   "mimetype": "text/x-python",
   "name": "python",
   "nbconvert_exporter": "python",
   "pygments_lexer": "ipython3",
   "version": "3.5.3"
  }
 },
 "nbformat": 4,
 "nbformat_minor": 2
}
